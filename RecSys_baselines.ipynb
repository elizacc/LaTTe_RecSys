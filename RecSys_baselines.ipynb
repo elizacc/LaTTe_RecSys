{
 "cells": [
  {
   "cell_type": "code",
   "execution_count": 2,
   "metadata": {
    "colab": {
     "base_uri": "https://localhost:8080/"
    },
    "id": "lVoK_7xHdaa9",
    "outputId": "5068028f-6526-41db-ab84-9989d1f39bb0"
   },
   "outputs": [],
   "source": [
    "%%capture\n",
    "!pip install --no-cache-dir --upgrade git+https://github.com/evfro/polara.git@develop#egg=polara"
   ]
  },
  {
   "cell_type": "code",
   "execution_count": 2,
   "metadata": {
    "ExecuteTime": {
     "end_time": "2022-04-24T17:16:52.044360Z",
     "start_time": "2022-04-24T17:16:49.820759Z"
    },
    "id": "o_HJgdQFdSaf"
   },
   "outputs": [],
   "source": [
    "import numpy as np\n",
    "import pandas as pd\n",
    "import seaborn as sns\n",
    "import matplotlib.pyplot as plt\n",
    "from tqdm.notebook import tqdm\n",
    "\n",
    "import polara\n",
    "from polara import get_movielens_data\n",
    "from polara.preprocessing.dataframes import leave_one_out, reindex\n",
    "\n",
    "from dataprep import transform_indices\n",
    "from evaluation import topn_recommendations, model_evaluate, downvote_seen_items\n",
    "\n",
    "from polara.lib.tensor import hooi\n",
    "from polara.lib.sparse import tensor_outer_at\n",
    "from polara.evaluation.pipelines import random_grid\n",
    "\n",
    "from sa_hooi import sa_hooi, form_attention_matrix, get_scaling_weights, generate_position_projector\n",
    "\n",
    "from scipy.sparse import csr_matrix, diags\n",
    "from scipy.sparse.linalg import norm, svds\n",
    "\n",
    "from IPython.utils import io"
   ]
  },
  {
   "cell_type": "markdown",
   "metadata": {
    "id": "4NbP1tmBdSas"
   },
   "source": [
    "# Data preparation"
   ]
  },
  {
   "cell_type": "code",
   "execution_count": 3,
   "metadata": {
    "ExecuteTime": {
     "end_time": "2022-04-24T17:16:55.143949Z",
     "start_time": "2022-04-24T17:16:55.120949Z"
    },
    "code_folding": [
     0
    ]
   },
   "outputs": [],
   "source": [
    "def full_preproccessing():\n",
    "    data = get_movielens_data('ml-1m.zip', include_time=True)\n",
    "    test_timepoint = data['timestamp'].quantile(\n",
    "    q=0.8, interpolation='nearest'\n",
    "    )\n",
    "\n",
    "    test_data_ = data.query('timestamp >= @test_timepoint')\n",
    "    train_data_ = data.query(\n",
    "    'userid not in @test_data_.userid.unique() and timestamp < @test_timepoint'\n",
    "    )\n",
    "    \n",
    "    training, data_index = transform_indices(train_data_.copy(), 'userid', 'movieid')\n",
    "    test_data = reindex(test_data_, data_index['items'])\n",
    "\n",
    "    testset_, holdout_ = leave_one_out(\n",
    "    test_data, target='timestamp', sample_top=True, random_state=0\n",
    "    )\n",
    "    testset_valid_, holdout_valid_ = leave_one_out(\n",
    "        testset_, target='timestamp', sample_top=True, random_state=0\n",
    "    )\n",
    "\n",
    "    test_users_val = np.intersect1d(testset_valid_.userid.unique(), holdout_valid_.userid.unique())\n",
    "    testset_valid = testset_valid_.query('userid in @test_users_val').sort_values('userid')\n",
    "    holdout_valid = holdout_valid_.query('userid in @test_users_val').sort_values('userid')\n",
    "\n",
    "    test_users = np.intersect1d(testset_.userid.unique(), holdout_.userid.unique())\n",
    "    testset = testset_.query('userid in @test_users').sort_values('userid')\n",
    "    holdout = holdout_.query('userid in @test_users').sort_values('userid')\n",
    "\n",
    "\n",
    "    assert holdout_valid.set_index('userid')['timestamp'].ge(\n",
    "        testset_valid\n",
    "        .groupby('userid')\n",
    "        ['timestamp'].max()\n",
    "    ).all()\n",
    "    \n",
    "    assert holdout.set_index('userid')['timestamp'].ge(\n",
    "        testset\n",
    "        .groupby('userid')\n",
    "        ['timestamp'].max()\n",
    "    ).all()\n",
    "\n",
    "    data_description = dict(\n",
    "        users = data_index['users'].name,\n",
    "        items = data_index['items'].name,\n",
    "        feedback = 'rating',\n",
    "        n_users = len(data_index['users']),\n",
    "        n_items = len(data_index['items']),\n",
    "        n_ratings = training['rating'].nunique(),\n",
    "        min_rating = training['rating'].min()\n",
    "    )\n",
    "\n",
    "    return training, testset_valid, holdout_valid, testset, holdout, data_description"
   ]
  },
  {
   "cell_type": "code",
   "execution_count": 4,
   "metadata": {
    "ExecuteTime": {
     "end_time": "2022-04-24T17:16:56.500691Z",
     "start_time": "2022-04-24T17:16:55.792781Z"
    }
   },
   "outputs": [
    {
     "name": "stdout",
     "output_type": "stream",
     "text": [
      "Filtered 177 invalid observations.\n"
     ]
    }
   ],
   "source": [
    "training, testset_valid, holdout_valid, testset, holdout, data_description = full_preproccessing()"
   ]
  },
  {
   "cell_type": "code",
   "execution_count": 5,
   "metadata": {
    "ExecuteTime": {
     "end_time": "2022-04-24T17:17:01.816085Z",
     "start_time": "2022-04-24T17:17:01.803084Z"
    },
    "code_folding": [
     0
    ],
    "id": "nXnDXyWrdSbM"
   },
   "outputs": [],
   "source": [
    "def make_prediction(tf_scores, holdout_valid, data_description):\n",
    "    for n in [5, 10, 20]:\n",
    "        tf_recs = topn_recommendations(tf_scores, n)\n",
    "        hr, hr_pos, hr_neg, mrr, mrr_pos, mrr_neg, cov = model_evaluate(tf_recs, holdout_valid, data_description, topn=n)\n",
    "        print(f\"Test : HR@{n} = {hr:.4f}, MRR@{n} = {mrr:.4f}, Coverage@{n} = {cov:.4f}\")\n",
    "        print(f\"HR_pos@{n} = {hr_pos:.4f}, HR_neg@{n} = {hr_neg:.4f}\")\n",
    "        print(f\"MRR_pos@{n} = {mrr_pos:.4f}, MRR_neg@{n} = {mrr_neg:.4f}\")\n",
    "        print()"
   ]
  },
  {
   "cell_type": "code",
   "execution_count": 6,
   "metadata": {
    "ExecuteTime": {
     "end_time": "2022-04-24T17:17:02.535328Z",
     "start_time": "2022-04-24T17:17:02.525334Z"
    },
    "code_folding": [
     0
    ]
   },
   "outputs": [],
   "source": [
    "def model_evaluate(recommended_items, holdout, holdout_description, alpha=3, topn=10, dcg=False):\n",
    "    itemid = holdout_description['items']\n",
    "    rateid = holdout_description['feedback']\n",
    "    holdout_items = holdout[itemid].values\n",
    "    assert recommended_items.shape[0] == len(holdout_items)\n",
    "    \n",
    "    hits_mask = recommended_items[:, :topn] == holdout_items.reshape(-1, 1)\n",
    "    pos_mask = (holdout[rateid] >= alpha).values\n",
    "    neg_mask = (holdout[rateid] < alpha).values\n",
    "    \n",
    "    # HR calculation\n",
    "    hr = np.mean(hits_mask.any(axis=1))\n",
    "    hr_pos = np.mean(hits_mask[pos_mask].any(axis=1))\n",
    "    hr_neg = np.mean(hits_mask[neg_mask].any(axis=1))\n",
    "    \n",
    "    # MRR calculation\n",
    "    n_test_users = recommended_items.shape[0]\n",
    "    hit_rank = np.where(hits_mask)[1] + 1.0\n",
    "    mrr = np.sum(1 / hit_rank) / n_test_users\n",
    "    pos_hit_rank = np.where(hits_mask[pos_mask])[1] + 1.0\n",
    "    mrr_pos = np.sum(1 / pos_hit_rank) / n_test_users\n",
    "    neg_hit_rank = np.where(hits_mask[neg_mask])[1] + 1.0\n",
    "    mrr_neg = np.sum(1 / neg_hit_rank) / n_test_users\n",
    "    \n",
    "    # DCG calculation\n",
    "    if dcg:\n",
    "        pos_hit_rank = np.where(hits_mask[pos_mask])[1] + 1.0\n",
    "        neg_hit_rank = np.where(hits_mask[neg_mask])[1] + 1.0\n",
    "        ndcg = np.sum(1 / np.log2(pos_hit_rank+1)) / n_test_users\n",
    "        ndcl = np.sum(1 / np.log2(neg_hit_rank+1)) / n_test_users\n",
    "    \n",
    "    # coverage calculation\n",
    "    n_items = holdout_description['n_items']\n",
    "    cov = np.unique(recommended_items).size / n_items\n",
    "    if dcg:\n",
    "        return hr, hr_pos, hr_neg, mrr, mrr_pos, mrr_neg, cov, ndcg, ndcl\n",
    "    else:\n",
    "        return hr, hr_pos, hr_neg, mrr, mrr_pos, mrr_neg, cov"
   ]
  },
  {
   "cell_type": "code",
   "execution_count": 5,
   "metadata": {
    "ExecuteTime": {
     "end_time": "2022-04-24T16:15:15.950213Z",
     "start_time": "2022-04-24T16:15:15.934011Z"
    },
    "code_folding": [
     0
    ],
    "id": "60I1kLNp3UxG"
   },
   "outputs": [],
   "source": [
    "def valid_mlrank(mlrank):\n",
    "    '''\n",
    "    Only allow ranks that are suitable for truncated SVD computations\n",
    "    on unfolded compressed tensor (the result of ttm product in HOOI).\n",
    "    '''\n",
    "    r1, r2, r3 = mlrank\n",
    "    return r1*r2 > r3 and r1*r3 > r2 and r2*r3 > r1"
   ]
  },
  {
   "cell_type": "markdown",
   "metadata": {
    "id": "0sYJx_ORdSbN"
   },
   "source": [
    "# Sequential TF"
   ]
  },
  {
   "cell_type": "markdown",
   "metadata": {
    "id": "NIJjbpIPdSbO"
   },
   "source": [
    "## Preprocessing"
   ]
  },
  {
   "cell_type": "code",
   "execution_count": 78,
   "metadata": {
    "ExecuteTime": {
     "end_time": "2022-04-24T15:25:56.162212Z",
     "start_time": "2022-04-24T15:25:55.436884Z"
    },
    "id": "xohSSKrjdSbS"
   },
   "outputs": [],
   "source": [
    "n_pos = 200\n",
    "\n",
    "def assign_positions(s, maxlen=n_pos):\n",
    "    return np.arange(maxlen-len(s), maxlen)\n",
    "\n",
    "training_data = (\n",
    "    training\n",
    "    .sort_values('timestamp')\n",
    "    .assign(\n",
    "        pos = lambda df: df.groupby('userid')['movieid'].transform(assign_positions)\n",
    "    )\n",
    "    .sort_values(['userid', 'timestamp'])\n",
    "    .query('pos>=0')\n",
    ")\n",
    "\n",
    "testset_valid = (\n",
    "    testset_valid\n",
    "    .sort_values('timestamp')\n",
    "    .assign(\n",
    "        pos = lambda df: df.groupby('userid')['movieid'].transform(assign_positions)\n",
    "    )\n",
    "    .sort_values(['userid', 'timestamp'])\n",
    ")"
   ]
  },
  {
   "cell_type": "markdown",
   "metadata": {
    "id": "Eei-9LZldSbd"
   },
   "source": [
    "## Model"
   ]
  },
  {
   "cell_type": "code",
   "execution_count": 79,
   "metadata": {
    "ExecuteTime": {
     "end_time": "2022-04-24T15:25:58.217705Z",
     "start_time": "2022-04-24T15:25:58.205706Z"
    },
    "colab": {
     "base_uri": "https://localhost:8080/"
    },
    "id": "L0AsQy8LdSbe",
    "outputId": "56f76787-7956-4d79-96d9-fdceca1b6aed"
   },
   "outputs": [],
   "source": [
    "data_description['positions'] = 'pos'\n",
    "data_description['n_pos'] = n_pos"
   ]
  },
  {
   "cell_type": "code",
   "execution_count": 80,
   "metadata": {
    "ExecuteTime": {
     "end_time": "2022-04-24T15:25:59.479710Z",
     "start_time": "2022-04-24T15:25:59.473710Z"
    },
    "id": "mwkp3yq_dSbf"
   },
   "outputs": [],
   "source": [
    "def seqtf_model_build(config, data, data_description):\n",
    "    userid = data_description[\"users\"]\n",
    "    itemid = data_description[\"items\"]\n",
    "    positions = data_description[\"positions\"]\n",
    "\n",
    "    n_users = data_description[\"n_users\"]\n",
    "    n_items = data_description[\"n_items\"]\n",
    "    max_pos = data_description[\"n_pos\"]\n",
    "    shape = (n_users, n_items, max_pos)\n",
    "\n",
    "    attention_matrix = form_attention_matrix(\n",
    "        data_description[\"n_pos\"],\n",
    "        config[\"attention_decay\"],\n",
    "        format = 'csr'\n",
    "    )\n",
    "\n",
    "    item_popularity = (\n",
    "        data[itemid]\n",
    "        .value_counts(sort=False)\n",
    "        .reindex(range(n_items))\n",
    "        .fillna(1)\n",
    "        .values\n",
    "    )\n",
    "    scaling_weights = get_scaling_weights(item_popularity, scaling=config[\"scaling\"])\n",
    "\n",
    "    idx = data[[userid, itemid, positions]].values\n",
    "    val = np.ones(idx.shape[0], dtype='f8')\n",
    "\n",
    "    user_factors, item_factors, feedback_factors = sa_hooi(\n",
    "        idx, val, shape, config[\"mlrank\"],\n",
    "        attention_matrix = attention_matrix,\n",
    "        scaling_weights = scaling_weights,\n",
    "        max_iters = config[\"num_iters\"],\n",
    "        parallel_ttm = False,\n",
    "        randomized = config[\"randomized\"],\n",
    "        growth_tol = config[\"growth_tol\"],\n",
    "        seed = config[\"seed\"],\n",
    "        iter_callback = None,\n",
    "    )\n",
    "    return user_factors, item_factors, feedback_factors, attention_matrix\n"
   ]
  },
  {
   "cell_type": "code",
   "execution_count": 81,
   "metadata": {
    "ExecuteTime": {
     "end_time": "2022-04-24T15:26:00.432574Z",
     "start_time": "2022-04-24T15:26:00.419933Z"
    }
   },
   "outputs": [],
   "source": [
    "config = {\n",
    "    \"scaling\": 1,\n",
    "    \"mlrank\": (30, 30, 5),\n",
    "    \"n_pos\": n_pos,\n",
    "    \"num_iters\": 5,\n",
    "    \"attention_decay\": 1,\n",
    "    \"randomized\": True,\n",
    "    \"growth_tol\": 1e-4,\n",
    "    \"seed\": 42\n",
    "}"
   ]
  },
  {
   "cell_type": "code",
   "execution_count": 82,
   "metadata": {
    "ExecuteTime": {
     "end_time": "2022-04-24T15:26:00.885376Z",
     "start_time": "2022-04-24T15:26:00.865731Z"
    },
    "id": "m1mppqd1dSbl"
   },
   "outputs": [],
   "source": [
    "def tf_scoring(params, data, data_description):\n",
    "    user_factors, item_factors, pos_factors, attention_matrix = params\n",
    "    last_position_projector = generate_position_projector(attention_matrix, pos_factors)\n",
    "\n",
    "    userid = data_description[\"users\"]\n",
    "    itemid = data_description[\"items\"]\n",
    "    posid = data_description[\"positions\"]\n",
    "\n",
    "    tset_data = data.sort_values([userid, posid])\n",
    "    useridx = tset_data[userid].values\n",
    "    itemidx = tset_data[itemid].values\n",
    "    indptr, = np.where(np.diff(useridx, prepend=0, append=1))\n",
    "    scores = user_scoring(indptr, itemidx, item_factors, last_position_projector)\n",
    "    return scores\n",
    "\n",
    "def user_scoring(indptr, indices, item_factors, last_position_projector):\n",
    "    sequences = np.array_split(indices, indptr[1:-1])\n",
    "    n_items = item_factors.shape[0]\n",
    "    scores = np.zeros((len(sequences), n_items))\n",
    "    for u, seq in enumerate(sequences):\n",
    "        scores[u] = sequences_score(seq, item_factors, last_position_projector)\n",
    "    return scores\n",
    "\n",
    "def sequences_score(seq, item_factors, last_position_projector):\n",
    "    n_pos = len(last_position_projector)\n",
    "    user_profile = item_factors[seq[-(n_pos-1):], :]\n",
    "    n_items = user_profile.shape[0]\n",
    "    scores = item_factors @ (user_profile.T @ last_position_projector[-(n_items+1):-1])\n",
    "    return scores"
   ]
  },
  {
   "cell_type": "markdown",
   "metadata": {
    "id": "llcPe86X3TIq"
   },
   "source": [
    "## Tuning"
   ]
  },
  {
   "cell_type": "code",
   "execution_count": 12,
   "metadata": {
    "ExecuteTime": {
     "end_time": "2022-04-24T14:36:55.388691Z",
     "start_time": "2022-04-24T14:36:55.376004Z"
    },
    "id": "60I1kLNp3UxG"
   },
   "outputs": [],
   "source": [
    "tf_hyper = { # hyper-parameters dict for multi-linear rank\n",
    "    'r1': range(20, 80, 10),\n",
    "    'r2': range(20, 80, 10),\n",
    "    'r3': range(5, 40, 5),\n",
    "}\n",
    "\n",
    "grid, param_names = random_grid(tf_hyper, n=0)\n",
    "tf_grid = [tuple(mlrank) for mlrank in grid if valid_mlrank(mlrank)]"
   ]
  },
  {
   "cell_type": "code",
   "execution_count": null,
   "metadata": {
    "ExecuteTime": {
     "start_time": "2022-04-24T14:09:07.577Z"
    },
    "colab": {
     "base_uri": "https://localhost:8080/"
    },
    "id": "WvP5T_KT34To",
    "outputId": "a31f8613-0d73-434e-bfb0-bad61077f7cf"
   },
   "outputs": [
    {
     "data": {
      "application/vnd.jupyter.widget-view+json": {
       "model_id": "0f548c100bad46dba6df57a0a8583e9c",
       "version_major": 2,
       "version_minor": 0
      },
      "text/plain": [
       "  0%|          | 0/252 [00:00<?, ?it/s]"
      ]
     },
     "metadata": {},
     "output_type": "display_data"
    }
   ],
   "source": [
    "hr_tf = {}\n",
    "mrr_tf = {}\n",
    "cov_tf = {}\n",
    "for mlrank in tqdm(tf_grid):\n",
    "    with io.capture_output() as captured:\n",
    "        config['mlrank'] = mlrank\n",
    "        tf_params = seqtf_model_build(config, training_data, data_description)\n",
    "        tf_scores = tf_scoring(tf_params, testset_valid, data_description)\n",
    "        downvote_seen_items(tf_scores, testset_valid, data_description)\n",
    "        tf_recs = topn_recommendations(tf_scores, topn=10) # comlete the code\n",
    "        hr, hr_pos, hr_neg, mrr, mrr_pos, mrr_neg, cov = model_evaluate(tf_recs, holdout_valid, data_description, topn=10)\n",
    "        #hr, mrr, cov = evaluate(tf_recs, valid_holdout, data_description)\n",
    "        hr_tf[mlrank] = hr\n",
    "        mrr_tf[mlrank] = mrr\n",
    "        cov_tf[mlrank] = cov"
   ]
  },
  {
   "cell_type": "code",
   "execution_count": null,
   "metadata": {
    "ExecuteTime": {
     "end_time": "2022-03-24T08:55:13.143896Z",
     "start_time": "2022-03-24T08:55:13.123903Z"
    },
    "colab": {
     "base_uri": "https://localhost:8080/"
    },
    "id": "CgyalR0S7sTV",
    "outputId": "0d9eb1e8-5afb-4ea1-d567-8994f9760028"
   },
   "outputs": [],
   "source": [
    "print(f'Best HR={pd.Series(hr_tf).max():.4f} achieved with mlrank={pd.Series(hr_tf).idxmax()}')\n",
    "print(f'Best MRR={pd.Series(mrr_tf).max():.4f} achieved with mlrank={pd.Series(mrr_tf).idxmax()}')\n",
    "print(f'COV={pd.Series(cov_tf)[pd.Series(hr_tf).idxmax()]:.4f} (based on best HR value)')"
   ]
  },
  {
   "cell_type": "code",
   "execution_count": null,
   "metadata": {
    "colab": {
     "base_uri": "https://localhost:8080/"
    },
    "id": "VdqrbxoL4a32",
    "outputId": "7007f87e-246e-4ada-bdf8-e2fe836e0050"
   },
   "outputs": [],
   "source": [
    "print(f'COV={pd.Series(cov_tf)[pd.Series(hr_tf).idxmax()]:.4f} (based on best HR value)')"
   ]
  },
  {
   "cell_type": "markdown",
   "metadata": {
    "id": "EW7SFRIqqle7"
   },
   "source": [
    "# Random Model"
   ]
  },
  {
   "cell_type": "code",
   "execution_count": 7,
   "metadata": {
    "ExecuteTime": {
     "end_time": "2022-04-24T17:17:06.085207Z",
     "start_time": "2022-04-24T17:17:06.073198Z"
    },
    "id": "KMEOnT4sqoTq"
   },
   "outputs": [],
   "source": [
    "def build_random_model(trainset, trainset_description):\n",
    "    itemid = trainset_description['items']\n",
    "    n_items = trainset[itemid].max() + 1\n",
    "    random_state = np.random.RandomState(42)\n",
    "    return n_items, random_state\n",
    "\n",
    "def random_model_scoring(params, testset, testset_description):\n",
    "    n_items, random_state = params\n",
    "    userid = testset_description['users']\n",
    "    n_users = testset[userid].nunique()\n",
    "    scores = random_state.rand(n_users, n_items)\n",
    "    return scores\n",
    "\n",
    "def simple_model_recom_func(scores, topn=20):\n",
    "    recommendations = np.apply_along_axis(topidx, 1, scores, topn)\n",
    "    return recommendations\n",
    "\n",
    "def topidx(a, topn):\n",
    "    parted = np.argpartition(a, -topn)[-topn:]\n",
    "    return parted[np.argsort(-a[parted])]"
   ]
  },
  {
   "cell_type": "markdown",
   "metadata": {
    "id": "LQaaMX1erOcc"
   },
   "source": [
    "# Popularity-based model"
   ]
  },
  {
   "cell_type": "code",
   "execution_count": 8,
   "metadata": {
    "ExecuteTime": {
     "end_time": "2022-04-24T17:17:06.869308Z",
     "start_time": "2022-04-24T17:17:06.859254Z"
    },
    "id": "oI3UZ4KMrR4i"
   },
   "outputs": [],
   "source": [
    "def build_popularity_model(trainset, trainset_description):\n",
    "    itemid = trainset_description['items']\n",
    "    item_popularity = trainset[itemid].value_counts()\n",
    "    return item_popularity\n",
    "\n",
    "def popularity_model_scoring(params, testset, testset_description):\n",
    "    item_popularity = params\n",
    "    n_items = item_popularity.index.max() + 1\n",
    "    userid = testset_description['users']\n",
    "    n_users = testset[userid].nunique()\n",
    "    # fill in popularity scores for each item with indices from 0 to n_items-1\n",
    "    popularity_scores = np.zeros(n_items,)\n",
    "    popularity_scores[item_popularity.index] = item_popularity.values\n",
    "    # same scores for each test user\n",
    "    scores = np.tile(popularity_scores, n_users).reshape(n_users, n_items)\n",
    "    return scores"
   ]
  },
  {
   "cell_type": "markdown",
   "metadata": {
    "id": "-c7NJyjoxbVF"
   },
   "source": [
    "# PureSVD"
   ]
  },
  {
   "cell_type": "code",
   "execution_count": 9,
   "metadata": {
    "ExecuteTime": {
     "end_time": "2022-04-24T17:17:07.739979Z",
     "start_time": "2022-04-24T17:17:07.722014Z"
    },
    "colab": {
     "base_uri": "https://localhost:8080/"
    },
    "id": "qHfx8WVYvJsQ",
    "outputId": "8791e807-11c9-41a1-c3a9-7b68cf85822d"
   },
   "outputs": [],
   "source": [
    "def matrix_from_observations(data, data_description):\n",
    "    useridx = data[data_description['users']]\n",
    "    itemidx = data[data_description['items']]\n",
    "    values = data[data_description['feedback']]\n",
    "    return csr_matrix((values, (useridx, itemidx)), dtype='f8')\n",
    "\n",
    "\n",
    "def build_svd_model(config, data, data_description):\n",
    "    source_matrix = matrix_from_observations(data, data_description)\n",
    "    D = norm(source_matrix, axis=0)\n",
    "    A = source_matrix.dot(diags(D**(config['f']-1)))\n",
    "    _, _, vt = svds(A, k=config['rank'], return_singular_vectors='vh')\n",
    "#     singular_values = s[::-1]\n",
    "    item_factors = np.ascontiguousarray(vt[::-1, :].T)\n",
    "    return item_factors\n",
    "\n",
    "def svd_model_scoring(params, data, data_description):\n",
    "    item_factors = params\n",
    "    test_data = data.assign(\n",
    "        userid = pd.factorize(data['userid'])[0]\n",
    "    )\n",
    "    test_matrix = matrix_from_observations(test_data, data_description)\n",
    "    scores = test_matrix.dot(item_factors) @ item_factors.T\n",
    "    return scores"
   ]
  },
  {
   "cell_type": "markdown",
   "metadata": {
    "id": "RkKi34mwyWUo"
   },
   "source": [
    "## Tuning"
   ]
  },
  {
   "cell_type": "code",
   "execution_count": 60,
   "metadata": {
    "ExecuteTime": {
     "end_time": "2022-04-24T15:05:09.031776Z",
     "start_time": "2022-04-24T15:05:09.026678Z"
    }
   },
   "outputs": [],
   "source": [
    "rank_grid = np.arange(20, 300, 10)\n",
    "f_grid = np.linspace(-2, 2, 21)"
   ]
  },
  {
   "cell_type": "code",
   "execution_count": 61,
   "metadata": {
    "ExecuteTime": {
     "end_time": "2022-04-24T15:21:40.339694Z",
     "start_time": "2022-04-24T15:05:10.609743Z"
    }
   },
   "outputs": [
    {
     "data": {
      "application/vnd.jupyter.widget-view+json": {
       "model_id": "4351587588044d9a9829558c3d9a4d59",
       "version_major": 2,
       "version_minor": 0
      },
      "text/plain": [
       "  0%|          | 0/588 [00:00<?, ?it/s]"
      ]
     },
     "metadata": {},
     "output_type": "display_data"
    }
   ],
   "source": [
    "hr_tf = {}\n",
    "hr_pos_tf = {}\n",
    "hr_neg_tf = {}\n",
    "mrr_tf = {}\n",
    "mrr_pos_tf = {}\n",
    "mrr_neg_tf = {}\n",
    "cov_tf = {}\n",
    "grid = list(zip(np.meshgrid(rank_grid, f_grid)[0].flatten(), np.meshgrid(rank_grid, f_grid)[1].flatten()))\n",
    "for params in tqdm(grid):\n",
    "    r, f = params\n",
    "    svd_config = {'rank': int(r), 'f': f}\n",
    "    svd_params = build_svd_model(svd_config, training, data_description)\n",
    "    svd_scores = svd_model_scoring(svd_params, testset_valid, data_description)\n",
    "    downvote_seen_items(svd_scores, testset_valid, data_description)\n",
    "    svd_recs = topn_recommendations(svd_scores, topn=10)\n",
    "    \n",
    "    hr, hr_pos, hr_neg, mrr, mrr_pos, mrr_neg, cov = model_evaluate(svd_recs, holdout_valid, data_description, topn=10)\n",
    "    hr_tf[f'r={r}, f={f:.2f}'] = hr\n",
    "    hr_pos_tf[f'r={r}, f={f:.2f}'] = hr_pos\n",
    "    hr_neg_tf[f'r={r}, f={f:.2f}'] = hr_neg\n",
    "    mrr_tf[f'r={r}, f={f:.2f}'] = mrr\n",
    "    mrr_pos_tf[f'r={r}, f={f:.2f}'] = mrr_pos\n",
    "    mrr_neg_tf[f'r={r}, f={f:.2f}'] = mrr_neg\n",
    "    cov_tf[f'r={r}, f={f:.2f}'] = cov"
   ]
  },
  {
   "cell_type": "code",
   "execution_count": 63,
   "metadata": {
    "ExecuteTime": {
     "end_time": "2022-04-24T15:24:33.702436Z",
     "start_time": "2022-04-24T15:24:33.694434Z"
    }
   },
   "outputs": [
    {
     "name": "stdout",
     "output_type": "stream",
     "text": [
      "r=220, f=0.60 0.10087976539589442\n",
      "r=230, f=0.60 0.10029325513196481\n",
      "r=240, f=0.60 0.09912023460410557\n",
      "---\n",
      "r=220, f=0.60 0.10711768851303735\n",
      "r=230, f=0.60 0.10711768851303735\n",
      "r=160, f=0.80 0.10711768851303735\n",
      "---\n",
      "r=220, f=0.60 0.03508378718056138\n",
      "r=190, f=0.80 0.03392054182376763\n",
      "r=210, f=0.60 0.03383908206488852\n",
      "---\n",
      "r=220, f=0.60 0.03216357119582926\n",
      "r=190, f=0.80 0.03170600009309687\n",
      "r=180, f=0.80 0.031132057906251454\n",
      "---\n",
      "r=290, f=-0.40 0.5672058003346346\n",
      "r=280, f=-0.40 0.5649749023982152\n",
      "r=270, f=-0.40 0.5616285554935861\n",
      "---\n"
     ]
    }
   ],
   "source": [
    "for metric in [hr_tf, hr_pos_tf, mrr_tf, mrr_pos_tf, cov_tf]:\n",
    "    metric_sorted = sorted(metric, key=metric.get, reverse=True)\n",
    "    for i in range(3):\n",
    "        print(metric_sorted[i], metric[metric_sorted[i]])\n",
    "    print('---')"
   ]
  },
  {
   "cell_type": "code",
   "execution_count": 69,
   "metadata": {
    "ExecuteTime": {
     "end_time": "2022-04-24T15:25:11.927349Z",
     "start_time": "2022-04-24T15:25:11.912348Z"
    }
   },
   "outputs": [
    {
     "data": {
      "text/plain": [
       "(0.06993006993006994, 0.002920215984732113)"
      ]
     },
     "execution_count": 69,
     "metadata": {},
     "output_type": "execute_result"
    }
   ],
   "source": [
    "hr_neg_tf['r=220, f=0.60'], mrr_neg_tf['r=220, f=0.60']"
   ]
  },
  {
   "cell_type": "markdown",
   "metadata": {},
   "source": [
    "# CoFFee"
   ]
  },
  {
   "cell_type": "code",
   "execution_count": 10,
   "metadata": {
    "ExecuteTime": {
     "end_time": "2022-04-24T17:17:09.992657Z",
     "start_time": "2022-04-24T17:17:09.970660Z"
    }
   },
   "outputs": [],
   "source": [
    "def tf_model_build(config, data, data_description):\n",
    "    userid = data_description[\"users\"]\n",
    "    itemid = data_description[\"items\"]\n",
    "    feedback = data_description[\"feedback\"]\n",
    "\n",
    "    idx = data[[userid, itemid, feedback]].values\n",
    "    idx[:, -1] = idx[:, -1] - data_description['min_rating'] # works only for integer ratings!\n",
    "    val = np.ones(idx.shape[0], dtype='f8')\n",
    "    \n",
    "    n_users = data_description[\"n_users\"]\n",
    "    n_items = data_description[\"n_items\"]\n",
    "    n_ratings = data_description[\"n_ratings\"]\n",
    "    shape = (n_users, n_items, n_ratings)\n",
    "    core_shape = config['mlrank']\n",
    "    num_iters = config[\"num_iters\"]\n",
    "    \n",
    "    u0, u1, u2, g = hooi(\n",
    "        idx, val, shape, core_shape,\n",
    "        return_core=False, num_iters=num_iters,\n",
    "        parallel_ttm=False, growth_tol=0.01,\n",
    "    )\n",
    "    return u0, u1, u2\n",
    "\n",
    "\n",
    "def tf_scoring(params, data, data_description):\n",
    "    user_factors, item_factors, feedback_factors = params\n",
    "    userid = data_description[\"users\"]\n",
    "    itemid = data_description[\"items\"]\n",
    "    feedback = data_description[\"feedback\"]\n",
    "\n",
    "    data = data.sort_values(userid)\n",
    "    useridx = data[userid].values\n",
    "    itemidx = data[itemid].values\n",
    "    ratings = data[feedback].values\n",
    "    ratings = ratings - data_description['min_rating'] # works only for integer ratings!\n",
    "    \n",
    "    tensor_outer = tensor_outer_at('cpu')\n",
    "    # use the fact that test data is sorted by users for reduction:\n",
    "    scores = tensor_outer(\n",
    "        1.0,\n",
    "        item_factors,\n",
    "        feedback_factors,\n",
    "        itemidx,\n",
    "        ratings\n",
    "    )\n",
    "    scores = np.add.reduceat(scores, np.r_[0, np.where(np.diff(useridx))[0]+1])\n",
    "    scores = np.tensordot(\n",
    "        scores,\n",
    "        feedback_factors[-1, :],\n",
    "        axes=(2, 0)\n",
    "    ).dot(item_factors.T)\n",
    "    return scores"
   ]
  },
  {
   "cell_type": "code",
   "execution_count": 55,
   "metadata": {
    "ExecuteTime": {
     "end_time": "2022-04-24T16:30:02.414102Z",
     "start_time": "2022-04-24T16:30:02.402108Z"
    }
   },
   "outputs": [],
   "source": [
    "config = {\n",
    "    'mlrank': (10, 10, 2),\n",
    "    \"num_iters\": 5,\n",
    "}"
   ]
  },
  {
   "cell_type": "markdown",
   "metadata": {},
   "source": [
    "## Tuning"
   ]
  },
  {
   "cell_type": "code",
   "execution_count": 67,
   "metadata": {
    "ExecuteTime": {
     "end_time": "2022-04-24T16:38:27.834896Z",
     "start_time": "2022-04-24T16:38:27.734882Z"
    }
   },
   "outputs": [],
   "source": [
    "tf_hyper = { # hyper-parameters dict for multi-linear rank\n",
    "    'r1': range(20, 300, 10),\n",
    "    'r2': range(20, 300, 10),\n",
    "    'r3': range(1, 5),\n",
    "}\n",
    "\n",
    "grid, param_names = random_grid(tf_hyper, n=0)\n",
    "tf_grid = [tuple(mlrank) for mlrank in grid if valid_mlrank(mlrank)]"
   ]
  },
  {
   "cell_type": "code",
   "execution_count": 65,
   "metadata": {
    "ExecuteTime": {
     "end_time": "2022-04-24T16:36:48.692509Z",
     "start_time": "2022-04-24T16:33:06.198507Z"
    }
   },
   "outputs": [
    {
     "data": {
      "application/vnd.jupyter.widget-view+json": {
       "model_id": "8ba9462f2efd478a8c8689956b15dae9",
       "version_major": 2,
       "version_minor": 0
      },
      "text/plain": [
       "  0%|          | 0/92 [00:00<?, ?it/s]"
      ]
     },
     "metadata": {},
     "output_type": "display_data"
    }
   ],
   "source": [
    "hr_tf = {}\n",
    "hr_pos_tf = {}\n",
    "hr_neg_tf = {}\n",
    "mrr_tf = {}\n",
    "mrr_pos_tf = {}\n",
    "mrr_neg_tf = {}\n",
    "cov_tf = {}\n",
    "for mlrank in tqdm(tf_grid):\n",
    "    with io.capture_output() as captured:\n",
    "        config['mlrank'] = mlrank\n",
    "        tf_params = tf_model_build(config, training, data_description)\n",
    "        tf_scores = tf_scoring(tf_params, testset_valid, data_description)\n",
    "        downvote_seen_items(tf_scores, testset_valid, data_description)\n",
    "        tf_recs = topn_recommendations(tf_scores, topn=10) # comlete the code\n",
    "        \n",
    "        hr, hr_pos, hr_neg, mrr, mrr_pos, mrr_neg, cov = model_evaluate(tf_recs, holdout_valid, data_description, topn=10)\n",
    "        hr_tf[mlrank] = hr\n",
    "        hr_pos_tf[mlrank] = hr_pos\n",
    "        hr_neg_tf[mlrank] = hr_neg\n",
    "        mrr_tf[mlrank] = mrr\n",
    "        mrr_pos_tf[mlrank] = mrr_pos\n",
    "        mrr_neg_tf[mlrank] = mrr_neg\n",
    "        cov_tf[mlrank] = cov"
   ]
  },
  {
   "cell_type": "code",
   "execution_count": 66,
   "metadata": {
    "ExecuteTime": {
     "end_time": "2022-04-24T16:37:33.734652Z",
     "start_time": "2022-04-24T16:37:33.716654Z"
    }
   },
   "outputs": [
    {
     "name": "stdout",
     "output_type": "stream",
     "text": [
      "(50, 70, 2) 0.06451612903225806\n",
      "(70, 40, 2) 0.06041055718475073\n",
      "(40, 60, 2) 0.05982404692082111\n",
      "---\n",
      "(50, 70, 2) 0.07470049330514447\n",
      "(70, 40, 2) 0.0711768851303735\n",
      "(60, 70, 2) 0.06906272022551092\n",
      "---\n",
      "(50, 70, 2) 0.021336172787785698\n",
      "(30, 20, 3) 0.020562537820602335\n",
      "(60, 70, 2) 0.020425918167853656\n",
      "---\n",
      "(50, 70, 2) 0.02099753293301681\n",
      "(60, 70, 2) 0.02015710096355258\n",
      "(70, 50, 2) 0.01994484010613043\n",
      "---\n",
      "(20, 70, 4) 0.20580033463469047\n",
      "(30, 70, 4) 0.20217512548800892\n",
      "(20, 60, 4) 0.19687674288901283\n",
      "---\n"
     ]
    }
   ],
   "source": [
    "for metric in [hr_tf, hr_pos_tf, mrr_tf, mrr_pos_tf, cov_tf]:\n",
    "    metric_sorted = sorted(metric, key=metric.get, reverse=True)\n",
    "    for i in range(3):\n",
    "        print(metric_sorted[i], metric[metric_sorted[i]])\n",
    "    print('---')"
   ]
  },
  {
   "cell_type": "code",
   "execution_count": 68,
   "metadata": {
    "ExecuteTime": {
     "end_time": "2022-04-24T16:38:49.370945Z",
     "start_time": "2022-04-24T16:38:49.352928Z"
    }
   },
   "outputs": [
    {
     "data": {
      "text/plain": [
       "(0.013986013986013986, 0.00033863985476888697)"
      ]
     },
     "execution_count": 68,
     "metadata": {},
     "output_type": "execute_result"
    }
   ],
   "source": [
    "hr_neg_tf[(50, 70, 2)], mrr_neg_tf[(50, 70, 2)]"
   ]
  },
  {
   "cell_type": "markdown",
   "metadata": {},
   "source": [
    "# Test metrics"
   ]
  },
  {
   "cell_type": "markdown",
   "metadata": {},
   "source": [
    "## Random model"
   ]
  },
  {
   "cell_type": "code",
   "execution_count": 11,
   "metadata": {
    "ExecuteTime": {
     "end_time": "2022-04-24T16:15:30.994632Z",
     "start_time": "2022-04-24T16:15:30.713428Z"
    }
   },
   "outputs": [
    {
     "name": "stdout",
     "output_type": "stream",
     "text": [
      "Test : HR@5 = 0.0023, MRR@5 = 0.0012, Coverage@5 = 0.9122\n",
      "HR_pos@5 = 0.0028, HR_neg@5 = 0.0000\n",
      "MRR_pos@5 = 0.0012, MRR_neg@5 = 0.0000\n",
      "\n",
      "Test : HR@10 = 0.0023, MRR@10 = 0.0012, Coverage@10 = 0.9936\n",
      "HR_pos@10 = 0.0028, HR_neg@10 = 0.0000\n",
      "MRR_pos@10 = 0.0012, MRR_neg@10 = 0.0000\n",
      "\n",
      "Test : HR@20 = 0.0069, MRR@20 = 0.0015, Coverage@20 = 1.0000\n",
      "HR_pos@20 = 0.0077, HR_neg@20 = 0.0033\n",
      "MRR_pos@20 = 0.0015, MRR_neg@20 = 0.0000\n",
      "\n"
     ]
    }
   ],
   "source": [
    "rnd_params = build_random_model(training, data_description)\n",
    "rnd_scores = random_model_scoring(rnd_params, testset, data_description)\n",
    "downvote_seen_items(rnd_scores, testset, data_description)\n",
    "\n",
    "make_prediction(rnd_scores, holdout, data_description)"
   ]
  },
  {
   "cell_type": "markdown",
   "metadata": {},
   "source": [
    "## Popularity-based model"
   ]
  },
  {
   "cell_type": "code",
   "execution_count": 12,
   "metadata": {
    "ExecuteTime": {
     "end_time": "2022-04-24T16:15:32.166259Z",
     "start_time": "2022-04-24T16:15:32.091250Z"
    }
   },
   "outputs": [],
   "source": [
    "pop_params = build_popularity_model(training, data_description)\n",
    "pop_scores = popularity_model_scoring(pop_params, testset, data_description)\n",
    "downvote_seen_items(pop_scores, testset, data_description)\n",
    "\n",
    "make_prediction(pop_scores, holdout, data_description)"
   ]
  },
  {
   "cell_type": "markdown",
   "metadata": {},
   "source": [
    "## PureSVD"
   ]
  },
  {
   "cell_type": "code",
   "execution_count": 14,
   "metadata": {
    "ExecuteTime": {
     "end_time": "2022-04-24T16:15:37.335779Z",
     "start_time": "2022-04-24T16:15:33.647808Z"
    }
   },
   "outputs": [
    {
     "name": "stdout",
     "output_type": "stream",
     "text": [
      "Test : HR@5 = 0.0443, MRR@5 = 0.0221, Coverage@5 = 0.2476\n",
      "HR_pos@5 = 0.0494, HR_neg@5 = 0.0198\n",
      "MRR_pos@5 = 0.0199, MRR_neg@5 = 0.0022\n",
      "\n",
      "Test : HR@10 = 0.0822, MRR@10 = 0.0271, Coverage@10 = 0.3305\n",
      "HR_pos@10 = 0.0891, HR_neg@10 = 0.0495\n",
      "MRR_pos@10 = 0.0242, MRR_neg@10 = 0.0029\n",
      "\n",
      "Test : HR@20 = 0.1294, MRR@20 = 0.0303, Coverage@20 = 0.4258\n",
      "HR_pos@20 = 0.1372, HR_neg@20 = 0.0924\n",
      "MRR_pos@20 = 0.0269, MRR_neg@20 = 0.0034\n",
      "\n"
     ]
    }
   ],
   "source": [
    "svd_config = {'rank': 220, 'f': 0.6}\n",
    "svd_params = build_svd_model(svd_config, training, data_description)\n",
    "svd_scores = svd_model_scoring(svd_params, testset, data_description)\n",
    "downvote_seen_items(svd_scores, testset, data_description)\n",
    "\n",
    "make_prediction(svd_scores, holdout, data_description)"
   ]
  },
  {
   "cell_type": "markdown",
   "metadata": {},
   "source": [
    "## CoFFee"
   ]
  },
  {
   "cell_type": "code",
   "execution_count": 69,
   "metadata": {
    "ExecuteTime": {
     "end_time": "2022-04-24T16:40:34.587104Z",
     "start_time": "2022-04-24T16:40:31.687084Z"
    }
   },
   "outputs": [
    {
     "name": "stdout",
     "output_type": "stream",
     "text": [
      "Test : HR@5 = 0.0242, MRR@5 = 0.0127, Coverage@5 = 0.1288\n",
      "HR_pos@5 = 0.0286, HR_neg@5 = 0.0033\n",
      "MRR_pos@5 = 0.0125, MRR_neg@5 = 0.0001\n",
      "\n",
      "Test : HR@10 = 0.0414, MRR@10 = 0.0150, Coverage@10 = 0.1751\n",
      "HR_pos@10 = 0.0474, HR_neg@10 = 0.0132\n",
      "MRR_pos@10 = 0.0146, MRR_neg@10 = 0.0004\n",
      "\n",
      "Test : HR@20 = 0.0725, MRR@20 = 0.0172, Coverage@20 = 0.2331\n",
      "HR_pos@20 = 0.0843, HR_neg@20 = 0.0165\n",
      "MRR_pos@20 = 0.0167, MRR_neg@20 = 0.0004\n",
      "\n"
     ]
    }
   ],
   "source": [
    "config = {\n",
    "    'mlrank': (50, 70, 2),\n",
    "    \"num_iters\": 5,\n",
    "}\n",
    "tf_params = tf_model_build(config, training, data_description)\n",
    "tf_scores = tf_scoring(tf_params, testset, data_description)\n",
    "downvote_seen_items(tf_scores, testset, data_description)\n",
    "\n",
    "make_prediction(tf_scores, holdout, data_description)"
   ]
  },
  {
   "cell_type": "markdown",
   "metadata": {},
   "source": [
    "## SeqTF"
   ]
  },
  {
   "cell_type": "code",
   "execution_count": null,
   "metadata": {
    "ExecuteTime": {
     "end_time": "2022-04-24T16:15:39.218119Z",
     "start_time": "2022-04-24T16:15:38.181760Z"
    }
   },
   "outputs": [],
   "source": [
    "testset = (\n",
    "    testset\n",
    "    .sort_values('timestamp')\n",
    "    .assign(\n",
    "        pos = lambda df: df.groupby('userid')['movieid'].transform(assign_positions)\n",
    "    )\n",
    "    .sort_values(['userid', 'timestamp'])\n",
    ")"
   ]
  },
  {
   "cell_type": "code",
   "execution_count": 84,
   "metadata": {
    "ExecuteTime": {
     "end_time": "2022-04-24T15:26:05.813301Z",
     "start_time": "2022-04-24T15:26:05.802301Z"
    }
   },
   "outputs": [
    {
     "data": {
      "text/plain": [
       "{'scaling': 1,\n",
       " 'mlrank': (30, 70, 5),\n",
       " 'n_pos': 200,\n",
       " 'num_iters': 5,\n",
       " 'attention_decay': 1,\n",
       " 'randomized': True,\n",
       " 'growth_tol': 0.0001,\n",
       " 'seed': 42}"
      ]
     },
     "execution_count": 84,
     "metadata": {},
     "output_type": "execute_result"
    }
   ],
   "source": [
    "config['mlrank'] = (30, 70, 5)\n",
    "config"
   ]
  },
  {
   "cell_type": "code",
   "execution_count": 85,
   "metadata": {
    "ExecuteTime": {
     "end_time": "2022-04-24T15:26:10.818651Z",
     "start_time": "2022-04-24T15:26:06.352423Z"
    }
   },
   "outputs": [
    {
     "name": "stdout",
     "output_type": "stream",
     "text": [
      "growth of the core: 1.0\n",
      "growth of the core: 0.30479800926811074\n",
      "growth of the core: 0.040560465750137914\n",
      "growth of the core: 0.006651922883456805\n",
      "growth of the core: 0.0029157136094407413\n",
      "Test : HR@5 = 0.0707, MRR@5 = 0.0365, Coverage@5 = 0.1860\n",
      "HR_pos@5 = 0.0738, HR_neg@5 = 0.0561\n",
      "MRR_pos@5 = 0.0320, MRR_neg@5 = 0.0045"
     ]
    },
    {
     "name": "stderr",
     "output_type": "stream",
     "text": [
      "C:\\Users\\Liza\\anaconda3\\lib\\site-packages\\scipy\\sparse\\coo.py:431: SparseEfficiencyWarning: Constructing a DIA matrix with 200 diagonals is inefficient\n",
      "  warn(\"Constructing a DIA matrix with %d diagonals \"\n"
     ]
    },
    {
     "name": "stdout",
     "output_type": "stream",
     "text": [
      "\n",
      "\n",
      "Test : HR@10 = 0.1173, MRR@10 = 0.0427, Coverage@10 = 0.2440\n",
      "HR_pos@10 = 0.1191, HR_neg@10 = 0.1089\n",
      "MRR_pos@10 = 0.0370, MRR_neg@10 = 0.0057\n",
      "\n",
      "Test : HR@20 = 0.1702, MRR@20 = 0.0464, Coverage@20 = 0.3140\n",
      "HR_pos@20 = 0.1713, HR_neg@20 = 0.1650\n",
      "MRR_pos@20 = 0.0400, MRR_neg@20 = 0.0064\n",
      "\n"
     ]
    }
   ],
   "source": [
    "tf_params = seqtf_model_build(config, training_data, data_description)\n",
    "tf_scores = tf_scoring(tf_params, testset, data_description)\n",
    "downvote_seen_items(tf_scores, testset, data_description)\n",
    "\n",
    "make_prediction(tf_scores, holdout, data_description)"
   ]
  },
  {
   "cell_type": "markdown",
   "metadata": {},
   "source": [
    "# Charts"
   ]
  },
  {
   "cell_type": "code",
   "execution_count": 11,
   "metadata": {
    "ExecuteTime": {
     "end_time": "2022-04-24T17:17:16.676084Z",
     "start_time": "2022-04-24T17:17:16.672092Z"
    }
   },
   "outputs": [],
   "source": [
    "def make_prediction(scores, holdout_valid, data_description):\n",
    "    metrics = np.zeros((7, 100))\n",
    "    for n in range(1, 101):\n",
    "        recs = topn_recommendations(scores, n)\n",
    "        metrics[:, n-1] = model_evaluate(recs, holdout_valid, data_description, topn=n)\n",
    "    return metrics"
   ]
  },
  {
   "cell_type": "code",
   "execution_count": 12,
   "metadata": {
    "ExecuteTime": {
     "end_time": "2022-04-24T17:17:23.398855Z",
     "start_time": "2022-04-24T17:17:17.280856Z"
    }
   },
   "outputs": [],
   "source": [
    "rnd_params = build_random_model(training, data_description)\n",
    "rnd_scores = random_model_scoring(rnd_params, testset, data_description)\n",
    "downvote_seen_items(rnd_scores, testset, data_description)\n",
    "\n",
    "rnd_metrics = make_prediction(rnd_scores, holdout, data_description)"
   ]
  },
  {
   "cell_type": "code",
   "execution_count": 13,
   "metadata": {
    "ExecuteTime": {
     "end_time": "2022-04-24T17:17:29.291289Z",
     "start_time": "2022-04-24T17:17:23.880220Z"
    }
   },
   "outputs": [],
   "source": [
    "pop_params = build_popularity_model(training, data_description)\n",
    "pop_scores = popularity_model_scoring(pop_params, testset, data_description)\n",
    "downvote_seen_items(pop_scores, testset, data_description)\n",
    "\n",
    "pop_metrics = make_prediction(pop_scores, holdout, data_description)"
   ]
  },
  {
   "cell_type": "code",
   "execution_count": 14,
   "metadata": {
    "ExecuteTime": {
     "end_time": "2022-04-24T17:17:37.412335Z",
     "start_time": "2022-04-24T17:17:29.861324Z"
    }
   },
   "outputs": [],
   "source": [
    "svd_config = {'rank': 220, 'f': 0.6}\n",
    "svd_params = build_svd_model(svd_config, training, data_description)\n",
    "svd_scores = svd_model_scoring(svd_params, testset, data_description)\n",
    "downvote_seen_items(svd_scores, testset, data_description)\n",
    "\n",
    "svd_metrics = make_prediction(svd_scores, holdout, data_description)"
   ]
  },
  {
   "cell_type": "code",
   "execution_count": 15,
   "metadata": {
    "ExecuteTime": {
     "end_time": "2022-04-24T17:17:46.410283Z",
     "start_time": "2022-04-24T17:17:38.124284Z"
    }
   },
   "outputs": [],
   "source": [
    "config = {\n",
    "    'mlrank': (50, 70, 2),\n",
    "    \"num_iters\": 5,\n",
    "}\n",
    "tf_params = tf_model_build(config, training, data_description)\n",
    "tf_scores = tf_scoring(tf_params, testset, data_description)\n",
    "downvote_seen_items(tf_scores, testset, data_description)\n",
    "\n",
    "cof_metrics = make_prediction(tf_scores, holdout, data_description)"
   ]
  },
  {
   "cell_type": "code",
   "execution_count": 16,
   "metadata": {
    "ExecuteTime": {
     "end_time": "2022-04-24T17:17:47.163852Z",
     "start_time": "2022-04-24T17:17:47.155852Z"
    }
   },
   "outputs": [],
   "source": [
    "def load_dict_from_file(path):\n",
    "    f = open(path,'r')\n",
    "    data=f.read()\n",
    "    f.close()\n",
    "    return eval(data)"
   ]
  },
  {
   "cell_type": "code",
   "execution_count": 17,
   "metadata": {
    "ExecuteTime": {
     "end_time": "2022-04-24T17:17:48.440116Z",
     "start_time": "2022-04-24T17:17:48.433096Z"
    }
   },
   "outputs": [],
   "source": [
    "latte_metrics = np.array(load_dict_from_file('metrics_custom.txt'))"
   ]
  },
  {
   "cell_type": "code",
   "execution_count": 18,
   "metadata": {
    "ExecuteTime": {
     "end_time": "2022-04-24T17:17:50.885356Z",
     "start_time": "2022-04-24T17:17:49.983945Z"
    },
    "scrolled": false
   },
   "outputs": [
    {
     "data": {
      "image/png": "[encoded data removed]",
      "text/plain": [
       "<Figure size 720x432 with 1 Axes>"
      ]
     },
     "metadata": {
      "needs_background": "light"
     },
     "output_type": "display_data"
    },
    {
     "data": {
      "image/png": "[encoded data removed]",
      "text/plain": [
       "<Figure size 720x432 with 1 Axes>"
      ]
     },
     "metadata": {
      "needs_background": "light"
     },
     "output_type": "display_data"
    },
    {
     "data": {
      "image/png": "[encoded data removed]",
      "text/plain": [
       "<Figure size 720x432 with 1 Axes>"
      ]
     },
     "metadata": {
      "needs_background": "light"
     },
     "output_type": "display_data"
    },
    {
     "data": {
      "image/png": "[encoded data removed]",
      "text/plain": [
       "<Figure size 720x432 with 1 Axes>"
      ]
     },
     "metadata": {
      "needs_background": "light"
     },
     "output_type": "display_data"
    },
    {
     "data": {
      "image/png": "[encoded data removed]",
      "text/plain": [
       "<Figure size 720x432 with 1 Axes>"
      ]
     },
     "metadata": {
      "needs_background": "light"
     },
     "output_type": "display_data"
    },
    {
     "data": {
      "image/png": "[encoded data removed]",
      "text/plain": [
       "<Figure size 720x432 with 1 Axes>"
      ]
     },
     "metadata": {
      "needs_background": "light"
     },
     "output_type": "display_data"
    },
    {
     "data": {
      "image/png": "[encoded data removed]",
      "text/plain": [
       "<Figure size 720x432 with 1 Axes>"
      ]
     },
     "metadata": {
      "needs_background": "light"
     },
     "output_type": "display_data"
    }
   ],
   "source": [
    "names = ['HR', 'HR_pos', 'HR_neg', 'MRR', 'MRR_pos', 'MRR_neg', 'Cov']\n",
    "for i in range(7):\n",
    "    plt.figure(figsize=(10,6))\n",
    "    plt.title(f'{names[i]}')\n",
    "    plt.xlabel('top-n')\n",
    "    plt.plot(rnd_metrics[i], label='Random')\n",
    "    plt.plot(pop_metrics[i], label='Popular')\n",
    "    plt.plot(svd_metrics[i], label='SVD')\n",
    "    plt.plot(cof_metrics[i], label='CoFFee')\n",
    "    plt.plot(latte_metrics[i], label='LaTTe')\n",
    "    plt.legend()\n",
    "    plt.show()"
   ]
  },
  {
   "cell_type": "code",
   "execution_count": null,
   "metadata": {},
   "outputs": [],
   "source": []
  }
 ],
 "metadata": {
  "colab": {
   "collapsed_sections": [],
   "name": "CoFFeeProject.ipynb",
   "provenance": []
  },
  "interpreter": {
   "hash": "009c838d92940ae6fa3c0eca0f0908a58be7fe030119f0cd30e204cb459dcff7"
  },
  "kernelspec": {
   "display_name": "Python 3 (ipykernel)",
   "language": "python",
   "name": "python3"
  },
  "language_info": {
   "codemirror_mode": {
    "name": "ipython",
    "version": 3
   },
   "file_extension": ".py",
   "mimetype": "text/x-python",
   "name": "python",
   "nbconvert_exporter": "python",
   "pygments_lexer": "ipython3",
   "version": "3.9.7"
  },
  "toc": {
   "base_numbering": 1,
   "nav_menu": {},
   "number_sections": true,
   "sideBar": true,
   "skip_h1_title": false,
   "title_cell": "Table of Contents",
   "title_sidebar": "Contents",
   "toc_cell": false,
   "toc_position": {
    "height": "calc(100% - 180px)",
    "left": "10px",
    "top": "150px",
    "width": "341.3px"
   },
   "toc_section_display": true,
   "toc_window_display": true
  },
  "varInspector": {
   "cols": {
    "lenName": 16,
    "lenType": 16,
    "lenVar": 40
   },
   "kernels_config": {
    "python": {
     "delete_cmd_postfix": "",
     "delete_cmd_prefix": "del ",
     "library": "var_list.py",
     "varRefreshCmd": "print(var_dic_list())"
    },
    "r": {
     "delete_cmd_postfix": ") ",
     "delete_cmd_prefix": "rm(",
     "library": "var_list.r",
     "varRefreshCmd": "cat(var_dic_list()) "
    }
   },
   "types_to_exclude": [
    "module",
    "function",
    "builtin_function_or_method",
    "instance",
    "_Feature"
   ],
   "window_display": false
  }
 },
 "nbformat": 4,
 "nbformat_minor": 1
}
